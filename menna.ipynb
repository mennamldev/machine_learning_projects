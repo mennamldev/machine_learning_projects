{
 "cells": [
  {
   "cell_type": "code",
   "execution_count": null,
   "metadata": {
    "vscode": {
     "languageId": "plaintext"
    }
   },
   "outputs": [],
   "source": [
    "# Import necessary libraries\n",
    "import matplotlib.pyplot as plt\n",
    "import numpy as np\n",
    "\n",
    "# Print a simple message\n",
    "print(\"Hello, World! Welcome to Jupyter in VS Code.\")\n",
    "\n",
    "# Create a loop\n",
    "for i in range(1, 6):\n",
    "    print(f\"This is loop iteration {i}\")\n",
    "\n",
    "# Plot a basic graph\n",
    "x = np.linspace(0, 10, 100)\n",
    "y = np.sin(x)\n",
    "\n",
    "plt.plot(x, y, label=\"y = sin(x)\")\n",
    "plt.title(\"Simple Plot Example\")\n",
    "plt.xlabel(\"x\")\n",
    "plt.ylabel(\"y\")\n",
    "plt.legend()\n",
    "plt.grid(True)\n",
    "plt.show()\n"
   ]
  }
 ],
 "metadata": {
  "language_info": {
   "name": "python"
  }
 },
 "nbformat": 4,
 "nbformat_minor": 2
}
